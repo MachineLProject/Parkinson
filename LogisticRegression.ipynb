{
 "cells": [
  {
   "cell_type": "code",
   "execution_count": 2,
   "id": "021ce773-b400-4b19-829d-0b6086b3179d",
   "metadata": {},
   "outputs": [
    {
     "name": "stdout",
     "output_type": "stream",
     "text": [
      "Training model score (Logistic Regression): 0.8446601941747572\n",
      "The Logistic Regression Model score is 0.864406779661017\n"
     ]
    },
    {
     "data": {
      "image/png": "[encoded data removed]",
      "text/plain": [
       "<Figure size 700x500 with 2 Axes>"
      ]
     },
     "metadata": {},
     "output_type": "display_data"
    },
    {
     "name": "stdout",
     "output_type": "stream",
     "text": [
      "[[11  4]\n",
      " [ 4 40]]\n",
      "TP = 40\n",
      "TN = 11\n",
      "FN = 4\n",
      "FP = 4\n",
      "ACCURACY of model is: 86.44%\n",
      "SENSITIVITY of the model is: 90.91%\n",
      "SPECIFICITY of the model is: 73.33%\n",
      "FALSE POSITIVE RATE of the model is: 26.67%\n",
      "PRECISION of the model is: 90.91%\n",
      "Classification Report - Logistic Regression\n",
      "              precision    recall  f1-score   support\n",
      "\n",
      "           1       0.91      0.91      0.91        44\n",
      "           0       0.73      0.73      0.73        15\n",
      "\n",
      "    accuracy                           0.86        59\n",
      "   macro avg       0.82      0.82      0.82        59\n",
      "weighted avg       0.86      0.86      0.86        59\n",
      "\n"
     ]
    }
   ],
   "source": [
    "from sklearn.linear_model import LogisticRegression\n",
    "from sklearn import metrics\n",
    "import seaborn as sns\n",
    "import matplotlib.pyplot as plt\n",
    "import pandas as pd\n",
    "from sklearn.model_selection import train_test_split\n",
    "from scipy.stats import zscore\n",
    "from imblearn.over_sampling import SMOTE\n",
    "\n",
    "# Load the dataset\n",
    "data_path = 'Data - Parkinsons.csv'\n",
    "pdata = pd.read_csv(data_path)\n",
    "\n",
    "# Data preprocessing\n",
    "pdata = pdata.drop(['name'], axis=1)  # Drop non-numeric or unnecessary columns\n",
    "X = pdata.drop(['status'], axis=1)\n",
    "y = pdata[['status']]\n",
    "\n",
    "# Standardize the features\n",
    "X_scaled = X.apply(zscore)\n",
    "\n",
    "# Split the data\n",
    "X_train, X_test, y_train, y_test = train_test_split(X_scaled, y, test_size=0.30, random_state=42)\n",
    "\n",
    "# Apply SMOTE to handle class imbalance\n",
    "smote = SMOTE(random_state=42)\n",
    "X_resampled, y_resampled = smote.fit_resample(X_train, y_train)\n",
    "\n",
    "# Logistic Regression Model\n",
    "logreg_model = LogisticRegression()\n",
    "logreg_model.fit(X_resampled, y_resampled.values.ravel())\n",
    "y_predicted_logreg = logreg_model.predict(X_test)\n",
    "logreg_model_score_train = logreg_model.score(X_resampled, y_resampled)\n",
    "print(\"Training model score (Logistic Regression):\", logreg_model_score_train)\n",
    "logreg_model_score_test = logreg_model.score(X_test, y_test)\n",
    "print('The Logistic Regression Model score is', logreg_model_score_test)\n",
    "\n",
    "# Confusion Matrix\n",
    "cm_logreg = metrics.confusion_matrix(y_test, y_predicted_logreg, labels=[0,1])\n",
    "df_cm_logreg = pd.DataFrame(cm_logreg, index=['0', '1'], columns=['Predict 0', 'Predict 1'])\n",
    "plt.figure(figsize=(7, 5))\n",
    "sns.heatmap(df_cm_logreg, annot=True, fmt='g')\n",
    "plt.title('Confusion Matrix - Logistic Regression')\n",
    "plt.xlabel('Predicted Labels')\n",
    "plt.ylabel('True Labels')\n",
    "plt.show()\n",
    "\n",
    "# Print Confusion Matrix\n",
    "print(metrics.confusion_matrix(y_test, y_predicted_logreg))\n",
    "\n",
    "# Calculate Metrics\n",
    "TN = cm_logreg[0,0]\n",
    "FP = cm_logreg[0,1]\n",
    "FN = cm_logreg[1,0]\n",
    "TP = cm_logreg[1,1]\n",
    "print(\"TP =\", TP)\n",
    "print(\"TN =\", TN)\n",
    "print(\"FN =\", FN)\n",
    "print(\"FP =\", FP)\n",
    "print(f'ACCURACY of model is: {(TP + TN) / float(TP + TN + FN + FP) * 100:.2f}%')\n",
    "print(f'SENSITIVITY of the model is: {TP / float(TP + FN) * 100:.2f}%')\n",
    "print(f'SPECIFICITY of the model is: {TN / float(TN + FP) * 100:.2f}%')\n",
    "print(f'FALSE POSITIVE RATE of the model is: {FP / float(TN + FP) * 100:.2f}%')\n",
    "print(f'PRECISION of the model is: {TP / float(TP + FP) * 100:.2f}%')\n",
    "print(\"Classification Report - Logistic Regression\")\n",
    "print(metrics.classification_report(y_test, y_predicted_logreg, labels=[1, 0]))\n"
   ]
  },
  {
   "cell_type": "code",
   "execution_count": null,
   "id": "13d00fe0-6533-4aee-aac8-7af4255266c4",
   "metadata": {},
   "outputs": [],
   "source": []
  }
 ],
 "metadata": {
  "kernelspec": {
   "display_name": "Python 3 (ipykernel)",
   "language": "python",
   "name": "python3"
  },
  "language_info": {
   "codemirror_mode": {
    "name": "ipython",
    "version": 3
   },
   "file_extension": ".py",
   "mimetype": "text/x-python",
   "name": "python",
   "nbconvert_exporter": "python",
   "pygments_lexer": "ipython3",
   "version": "3.9.19"
  }
 },
 "nbformat": 4,
 "nbformat_minor": 5
}
